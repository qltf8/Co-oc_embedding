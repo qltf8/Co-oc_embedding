{
 "cells": [
  {
   "cell_type": "code",
   "execution_count": 14,
   "metadata": {
    "collapsed": true
   },
   "outputs": [],
   "source": [
    "import pickle\n",
    "d = pickle.load(file = open('half_wiki_clean.p','rb'))"
   ]
  },
  {
   "cell_type": "code",
   "execution_count": 15,
   "metadata": {
    "collapsed": true
   },
   "outputs": [],
   "source": [
    "import collections\n",
    "word_counter = collections.Counter()\n",
    "n_occo=0\n",
    "for k,v in d.items():\n",
    "    vk=list(v.keys())\n",
    "    word_counter.update(vk)\n",
    "    n_occo+=len(vk)\n",
    "#vocabulary = [pair[0] for pair in word_counter.most_common()[0:top_k]]"
   ]
  },
  {
   "cell_type": "code",
   "execution_count": 16,
   "metadata": {
    "collapsed": true
   },
   "outputs": [],
   "source": [
    "vocabulary = [pair for pair in word_counter]"
   ]
  },
  {
   "cell_type": "code",
   "execution_count": 4,
   "metadata": {
    "collapsed": true
   },
   "outputs": [],
   "source": [
    "# pickle.dump(vocabulary,file = open('wiki_small_word_index.txt','wb'))"
   ]
  },
  {
   "cell_type": "code",
   "execution_count": 17,
   "metadata": {
    "collapsed": true
   },
   "outputs": [],
   "source": [
    "def tobigram(t):\n",
    "    '''\n",
    "    convert a string to bigram\n",
    "    '''\n",
    "    t=t.translate(translator)\n",
    "#   print(t)\n",
    "    if t=='':\n",
    "        return [\" \"]\n",
    "    index=np.arange(len(t))\n",
    "#   print(t)\n",
    "#   print(list(t))\n",
    "    b_1=np.array(list(t))[index[:-1]]\n",
    "    b_2=np.array(list(t))[index[:-1]+1]\n",
    "    return np.core.defchararray.add(b_1,b_2)"
   ]
  },
  {
   "cell_type": "code",
   "execution_count": 18,
   "metadata": {
    "collapsed": true
   },
   "outputs": [],
   "source": [
    "non_eng=collections.Counter()\n",
    "for v in vocabulary:\n",
    "    for c in list(v):\n",
    "        if c not in 'abcdefghijklmnopqrstuvwxyz1234567890!\"\\' #$%&\\()*+.,-/:;<=>?@[\\\\]^_`{|}~':\n",
    "            non_eng.update(c)"
   ]
  },
  {
   "cell_type": "code",
   "execution_count": 19,
   "metadata": {},
   "outputs": [
    {
     "name": "stdout",
     "output_type": "stream",
     "text": [
      "string with punctuation inside of's it Does this work I hope so.\n"
     ]
    }
   ],
   "source": [
    "weird=[i for i in non_eng]\n",
    "weird=''.join(weird)\n",
    "import numpy as np\n",
    "import string\n",
    "test_case = ['hello', '...', 'h3.a', 'ds4,']\n",
    "import string\n",
    "\n",
    "translator = str.maketrans('', '', '!\"#$%&\\()*+,-/:;<=>?@[\\\\]^_`{|}~1234567890'+weird)\n",
    "\n",
    "s = 'string with \"punctuation\" inside of\\'s it! Does this work? I hope so.'\n",
    "\n",
    "print(s.translate(translator))\n"
   ]
  },
  {
   "cell_type": "code",
   "execution_count": 20,
   "metadata": {
    "collapsed": true
   },
   "outputs": [],
   "source": [
    "bigram_counter = collections.Counter()\n",
    "for v in vocabulary:\n",
    "    bigrams=tobigram(v)\n",
    "    for b in bigrams:\n",
    "#         print(b)\n",
    "        bigram_counter.update({b:1})\n",
    "all_bigrams=[b for b in bigram_counter]\n",
    "\n",
    "index_to_bigram_map = dict(enumerate(all_bigrams))\n",
    "bigram_to_index_map = dict([(index_to_bigram_map[index], index) for index in index_to_bigram_map])"
   ]
  },
  {
   "cell_type": "code",
   "execution_count": 21,
   "metadata": {
    "collapsed": true
   },
   "outputs": [],
   "source": [
    "v_bi_dic={}\n",
    "for v in vocabulary:\n",
    "    bigrams=tobigram(v)\n",
    "    res=[]\n",
    "    for b in bigrams:\n",
    "        res.append(bigram_to_index_map[b])\n",
    "    v_bi_dic[v]=res"
   ]
  },
  {
   "cell_type": "code",
   "execution_count": 22,
   "metadata": {
    "collapsed": true
   },
   "outputs": [],
   "source": [
    "matrix=np.zeros((len(vocabulary),len(all_bigrams)))\n",
    "check_map={}\n",
    "for index,(k,v) in enumerate(v_bi_dic.items()):\n",
    "    check_map[index]=k\n",
    "    if len(v)>0:\n",
    "        matrix[index,np.array(v)]=1"
   ]
  },
  {
   "cell_type": "code",
   "execution_count": null,
   "metadata": {
    "collapsed": true
   },
   "outputs": [],
   "source": [
    "from sklearn.neighbors import NearestNeighbors\n",
    "import time\n",
    "t1=time.time()\n",
    "X=matrix\n",
    "nbrs = NearestNeighbors(n_neighbors=5, algorithm='kd_tree').fit(X)\n",
    "time.time()-t1"
   ]
  },
  {
   "cell_type": "code",
   "execution_count": null,
   "metadata": {
    "collapsed": true
   },
   "outputs": [],
   "source": [
    "inname='donal trump'\n",
    "encoded=np.zeros(len(all_bigrams))\n",
    "b_code=[]\n",
    "for b in tobigram(inname):\n",
    "    b_code.append(bigram_to_index_map[b])\n",
    "encoded[np.array(b_code)]=1\n",
    "encoded=encoded.reshape(1,-1)"
   ]
  },
  {
   "cell_type": "code",
   "execution_count": null,
   "metadata": {
    "collapsed": true
   },
   "outputs": [],
   "source": [
    "distances, indices = nbrs.kneighbors(encoded)\n",
    "indices          "
   ]
  },
  {
   "cell_type": "code",
   "execution_count": null,
   "metadata": {
    "collapsed": true
   },
   "outputs": [],
   "source": [
    "for i in indices[0]:\n",
    "    print(i)\n",
    "    print(check_map[i])"
   ]
  }
 ],
 "metadata": {
  "kernelspec": {
   "display_name": "Python 3",
   "language": "python",
   "name": "python3"
  },
  "language_info": {
   "codemirror_mode": {
    "name": "ipython",
    "version": 3
   },
   "file_extension": ".py",
   "mimetype": "text/x-python",
   "name": "python",
   "nbconvert_exporter": "python",
   "pygments_lexer": "ipython3",
   "version": "3.6.3"
  }
 },
 "nbformat": 4,
 "nbformat_minor": 2
}
