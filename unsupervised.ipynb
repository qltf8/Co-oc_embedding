{
 "cells": [
  {
   "cell_type": "code",
   "execution_count": null,
   "metadata": {
    "collapsed": true
   },
   "outputs": [],
   "source": [
    "import pickle\n",
    "import numpy as np\n",
    "X=np.loadtxt('wiki_prince/embedding.txt')"
   ]
  },
  {
   "cell_type": "code",
   "execution_count": null,
   "metadata": {
    "collapsed": true
   },
   "outputs": [],
   "source": [
    "itw=pickle.load(open('wiki_prince/itw.p','rb'))\n",
    "wti=pickle.load(open('wiki_prince/wti.p','rb'))"
   ]
  },
  {
   "cell_type": "code",
   "execution_count": 10,
   "metadata": {
    "collapsed": true
   },
   "outputs": [],
   "source": [
    "man_list=[]\n",
    "com_list=[]\n",
    "for k,v in itw.items():\n",
    "    if v[-2:]=='_1':\n",
    "        man_list.append(k)\n",
    "    else:\n",
    "        com_list.append(k)"
   ]
  },
  {
   "cell_type": "code",
   "execution_count": 11,
   "metadata": {
    "collapsed": true
   },
   "outputs": [],
   "source": [
    "X=X[np.array(com_list),:]\n",
    "\n",
    "new_itw={}\n",
    "new_wti={}\n",
    "n=0\n",
    "for index in com_list:\n",
    "    new_itw[n]=itw[index]\n",
    "    new_wti[itw[index]]=n\n",
    "    n+=1"
   ]
  },
  {
   "cell_type": "code",
   "execution_count": 12,
   "metadata": {
    "collapsed": true
   },
   "outputs": [],
   "source": [
    "itw=new_itw\n",
    "wti=new_wti"
   ]
  },
  {
   "cell_type": "code",
   "execution_count": 13,
   "metadata": {},
   "outputs": [
    {
     "data": {
      "text/plain": [
       "339863"
      ]
     },
     "execution_count": 13,
     "metadata": {},
     "output_type": "execute_result"
    }
   ],
   "source": [
    "len(X)"
   ]
  },
  {
   "cell_type": "code",
   "execution_count": 101,
   "metadata": {
    "collapsed": true
   },
   "outputs": [],
   "source": [
    "for i in range(X.shape[0]):\n",
    "    X[i,:]=X[i,:]/np.linalg.norm(X[i,:])"
   ]
  },
  {
   "cell_type": "code",
   "execution_count": 101,
   "metadata": {
    "collapsed": true
   },
   "outputs": [],
   "source": [
    "b_i=np.loadtxt('bias_i.txt')"
   ]
  },
  {
   "cell_type": "code",
   "execution_count": 115,
   "metadata": {},
   "outputs": [
    {
     "data": {
      "text/plain": [
       "array([ 0.85448372,  0.41868544,  0.1181992 , ...,  0.22399859,\n",
       "        0.10890466,  0.04845205])"
      ]
     },
     "execution_count": 115,
     "metadata": {},
     "output_type": "execute_result"
    }
   ],
   "source": [
    "b_i[filter_index]"
   ]
  },
  {
   "cell_type": "code",
   "execution_count": 14,
   "metadata": {},
   "outputs": [
    {
     "ename": "KeyboardInterrupt",
     "evalue": "",
     "output_type": "error",
     "traceback": [
      "\u001b[0;31m---------------------------------------------------------------------------\u001b[0m",
      "\u001b[0;31mKeyboardInterrupt\u001b[0m                         Traceback (most recent call last)",
      "\u001b[0;32m<ipython-input-14-33962951da55>\u001b[0m in \u001b[0;36m<module>\u001b[0;34m()\u001b[0m\n\u001b[1;32m      2\u001b[0m \u001b[0;32mimport\u001b[0m \u001b[0mnumpy\u001b[0m \u001b[0;32mas\u001b[0m \u001b[0mnp\u001b[0m\u001b[0;34m\u001b[0m\u001b[0m\n\u001b[1;32m      3\u001b[0m \u001b[0;34m\u001b[0m\u001b[0m\n\u001b[0;32m----> 4\u001b[0;31m \u001b[0mkmeans\u001b[0m \u001b[0;34m=\u001b[0m \u001b[0mKMeans\u001b[0m\u001b[0;34m(\u001b[0m\u001b[0mn_clusters\u001b[0m\u001b[0;34m=\u001b[0m\u001b[0;36m9\u001b[0m\u001b[0;34m,\u001b[0m \u001b[0mrandom_state\u001b[0m\u001b[0;34m=\u001b[0m\u001b[0;36m0\u001b[0m\u001b[0;34m,\u001b[0m\u001b[0mmax_iter\u001b[0m\u001b[0;34m=\u001b[0m\u001b[0;36m500\u001b[0m\u001b[0;34m)\u001b[0m\u001b[0;34m.\u001b[0m\u001b[0mfit\u001b[0m\u001b[0;34m(\u001b[0m\u001b[0mX\u001b[0m\u001b[0;34m)\u001b[0m\u001b[0;34m\u001b[0m\u001b[0m\n\u001b[0m\u001b[1;32m      5\u001b[0m \u001b[0mkmeans\u001b[0m\u001b[0;34m.\u001b[0m\u001b[0mlabels_\u001b[0m\u001b[0;34m\u001b[0m\u001b[0m\n\u001b[1;32m      6\u001b[0m \u001b[0;34m\u001b[0m\u001b[0m\n",
      "\u001b[0;32m~/anaconda3/lib/python3.6/site-packages/sklearn/cluster/k_means_.py\u001b[0m in \u001b[0;36mfit\u001b[0;34m(self, X, y)\u001b[0m\n\u001b[1;32m    894\u001b[0m                 \u001b[0mtol\u001b[0m\u001b[0;34m=\u001b[0m\u001b[0mself\u001b[0m\u001b[0;34m.\u001b[0m\u001b[0mtol\u001b[0m\u001b[0;34m,\u001b[0m \u001b[0mrandom_state\u001b[0m\u001b[0;34m=\u001b[0m\u001b[0mrandom_state\u001b[0m\u001b[0;34m,\u001b[0m \u001b[0mcopy_x\u001b[0m\u001b[0;34m=\u001b[0m\u001b[0mself\u001b[0m\u001b[0;34m.\u001b[0m\u001b[0mcopy_x\u001b[0m\u001b[0;34m,\u001b[0m\u001b[0;34m\u001b[0m\u001b[0m\n\u001b[1;32m    895\u001b[0m                 \u001b[0mn_jobs\u001b[0m\u001b[0;34m=\u001b[0m\u001b[0mself\u001b[0m\u001b[0;34m.\u001b[0m\u001b[0mn_jobs\u001b[0m\u001b[0;34m,\u001b[0m \u001b[0malgorithm\u001b[0m\u001b[0;34m=\u001b[0m\u001b[0mself\u001b[0m\u001b[0;34m.\u001b[0m\u001b[0malgorithm\u001b[0m\u001b[0;34m,\u001b[0m\u001b[0;34m\u001b[0m\u001b[0m\n\u001b[0;32m--> 896\u001b[0;31m                 return_n_iter=True)\n\u001b[0m\u001b[1;32m    897\u001b[0m         \u001b[0;32mreturn\u001b[0m \u001b[0mself\u001b[0m\u001b[0;34m\u001b[0m\u001b[0m\n\u001b[1;32m    898\u001b[0m \u001b[0;34m\u001b[0m\u001b[0m\n",
      "\u001b[0;32m~/anaconda3/lib/python3.6/site-packages/sklearn/cluster/k_means_.py\u001b[0m in \u001b[0;36mk_means\u001b[0;34m(X, n_clusters, init, precompute_distances, n_init, max_iter, verbose, tol, random_state, copy_x, n_jobs, algorithm, return_n_iter)\u001b[0m\n\u001b[1;32m    344\u001b[0m                 \u001b[0mX\u001b[0m\u001b[0;34m,\u001b[0m \u001b[0mn_clusters\u001b[0m\u001b[0;34m,\u001b[0m \u001b[0mmax_iter\u001b[0m\u001b[0;34m=\u001b[0m\u001b[0mmax_iter\u001b[0m\u001b[0;34m,\u001b[0m \u001b[0minit\u001b[0m\u001b[0;34m=\u001b[0m\u001b[0minit\u001b[0m\u001b[0;34m,\u001b[0m \u001b[0mverbose\u001b[0m\u001b[0;34m=\u001b[0m\u001b[0mverbose\u001b[0m\u001b[0;34m,\u001b[0m\u001b[0;34m\u001b[0m\u001b[0m\n\u001b[1;32m    345\u001b[0m                 \u001b[0mprecompute_distances\u001b[0m\u001b[0;34m=\u001b[0m\u001b[0mprecompute_distances\u001b[0m\u001b[0;34m,\u001b[0m \u001b[0mtol\u001b[0m\u001b[0;34m=\u001b[0m\u001b[0mtol\u001b[0m\u001b[0;34m,\u001b[0m\u001b[0;34m\u001b[0m\u001b[0m\n\u001b[0;32m--> 346\u001b[0;31m                 x_squared_norms=x_squared_norms, random_state=random_state)\n\u001b[0m\u001b[1;32m    347\u001b[0m             \u001b[0;31m# determine if these results are the best so far\u001b[0m\u001b[0;34m\u001b[0m\u001b[0;34m\u001b[0m\u001b[0m\n\u001b[1;32m    348\u001b[0m             \u001b[0;32mif\u001b[0m \u001b[0mbest_inertia\u001b[0m \u001b[0;32mis\u001b[0m \u001b[0;32mNone\u001b[0m \u001b[0;32mor\u001b[0m \u001b[0minertia\u001b[0m \u001b[0;34m<\u001b[0m \u001b[0mbest_inertia\u001b[0m\u001b[0;34m:\u001b[0m\u001b[0;34m\u001b[0m\u001b[0m\n",
      "\u001b[0;32m~/anaconda3/lib/python3.6/site-packages/sklearn/cluster/k_means_.py\u001b[0m in \u001b[0;36m_kmeans_single_elkan\u001b[0;34m(X, n_clusters, max_iter, init, verbose, x_squared_norms, random_state, tol, precompute_distances)\u001b[0m\n\u001b[1;32m    398\u001b[0m         \u001b[0mprint\u001b[0m\u001b[0;34m(\u001b[0m\u001b[0;34m'Initialization complete'\u001b[0m\u001b[0;34m)\u001b[0m\u001b[0;34m\u001b[0m\u001b[0m\n\u001b[1;32m    399\u001b[0m     centers, labels, n_iter = k_means_elkan(X, n_clusters, centers, tol=tol,\n\u001b[0;32m--> 400\u001b[0;31m                                             max_iter=max_iter, verbose=verbose)\n\u001b[0m\u001b[1;32m    401\u001b[0m     \u001b[0minertia\u001b[0m \u001b[0;34m=\u001b[0m \u001b[0mnp\u001b[0m\u001b[0;34m.\u001b[0m\u001b[0msum\u001b[0m\u001b[0;34m(\u001b[0m\u001b[0;34m(\u001b[0m\u001b[0mX\u001b[0m \u001b[0;34m-\u001b[0m \u001b[0mcenters\u001b[0m\u001b[0;34m[\u001b[0m\u001b[0mlabels\u001b[0m\u001b[0;34m]\u001b[0m\u001b[0;34m)\u001b[0m \u001b[0;34m**\u001b[0m \u001b[0;36m2\u001b[0m\u001b[0;34m,\u001b[0m \u001b[0mdtype\u001b[0m\u001b[0;34m=\u001b[0m\u001b[0mnp\u001b[0m\u001b[0;34m.\u001b[0m\u001b[0mfloat64\u001b[0m\u001b[0;34m)\u001b[0m\u001b[0;34m\u001b[0m\u001b[0m\n\u001b[1;32m    402\u001b[0m     \u001b[0;32mreturn\u001b[0m \u001b[0mlabels\u001b[0m\u001b[0;34m,\u001b[0m \u001b[0minertia\u001b[0m\u001b[0;34m,\u001b[0m \u001b[0mcenters\u001b[0m\u001b[0;34m,\u001b[0m \u001b[0mn_iter\u001b[0m\u001b[0;34m\u001b[0m\u001b[0m\n",
      "\u001b[0;32msklearn/cluster/_k_means_elkan.pyx\u001b[0m in \u001b[0;36msklearn.cluster._k_means_elkan.k_means_elkan\u001b[0;34m()\u001b[0m\n",
      "\u001b[0;32m~/anaconda3/lib/python3.6/site-packages/numpy/core/fromnumeric.py\u001b[0m in \u001b[0;36msum\u001b[0;34m(a, axis, dtype, out, keepdims)\u001b[0m\n\u001b[1;32m   1728\u001b[0m \u001b[0;34m\u001b[0m\u001b[0m\n\u001b[1;32m   1729\u001b[0m \u001b[0;34m\u001b[0m\u001b[0m\n\u001b[0;32m-> 1730\u001b[0;31m \u001b[0;32mdef\u001b[0m \u001b[0msum\u001b[0m\u001b[0;34m(\u001b[0m\u001b[0ma\u001b[0m\u001b[0;34m,\u001b[0m \u001b[0maxis\u001b[0m\u001b[0;34m=\u001b[0m\u001b[0;32mNone\u001b[0m\u001b[0;34m,\u001b[0m \u001b[0mdtype\u001b[0m\u001b[0;34m=\u001b[0m\u001b[0;32mNone\u001b[0m\u001b[0;34m,\u001b[0m \u001b[0mout\u001b[0m\u001b[0;34m=\u001b[0m\u001b[0;32mNone\u001b[0m\u001b[0;34m,\u001b[0m \u001b[0mkeepdims\u001b[0m\u001b[0;34m=\u001b[0m\u001b[0mnp\u001b[0m\u001b[0;34m.\u001b[0m\u001b[0m_NoValue\u001b[0m\u001b[0;34m)\u001b[0m\u001b[0;34m:\u001b[0m\u001b[0;34m\u001b[0m\u001b[0m\n\u001b[0m\u001b[1;32m   1731\u001b[0m     \"\"\"\n\u001b[1;32m   1732\u001b[0m     \u001b[0mSum\u001b[0m \u001b[0mof\u001b[0m \u001b[0marray\u001b[0m \u001b[0melements\u001b[0m \u001b[0mover\u001b[0m \u001b[0ma\u001b[0m \u001b[0mgiven\u001b[0m \u001b[0maxis\u001b[0m\u001b[0;34m.\u001b[0m\u001b[0;34m\u001b[0m\u001b[0m\n",
      "\u001b[0;31mKeyboardInterrupt\u001b[0m: "
     ]
    }
   ],
   "source": [
    "from sklearn.cluster import KMeans\n",
    "import numpy as np\n",
    "\n",
    "kmeans = KMeans(n_clusters=9, random_state=0,max_iter=500).fit(X)\n",
    "kmeans.labels_\n",
    "\n",
    "#kmeans.predict([[0, 0], [4, 4]])\n",
    "#kmeans.cluster_centers_"
   ]
  },
  {
   "cell_type": "code",
   "execution_count": 144,
   "metadata": {},
   "outputs": [
    {
     "data": {
      "text/plain": [
       "array([[ 0.06231219,  0.05372317,  0.06133929,  0.05517024,  0.05322468,\n",
       "         0.06160167,  0.05477159,  0.05404638,  0.05617272,  0.04697192,\n",
       "         0.05667539,  0.05401183,  0.06198018,  0.04815207,  0.05608699,\n",
       "         0.05451519,  0.05544246,  0.04752389,  0.05164554,  0.05385934,\n",
       "         0.06078117,  0.05584777,  0.05179617,  0.05488365,  0.05952449,\n",
       "         0.0610466 ,  0.04666387,  0.04821344,  0.05924081,  0.05404968,\n",
       "         0.05855711,  0.0470559 ,  0.05030961,  0.06130334,  0.05398687,\n",
       "         0.05283429,  0.0603492 ,  0.06136143,  0.04882614,  0.05480584,\n",
       "         0.06200351,  0.0513078 ,  0.06181705,  0.06261825,  0.05284283,\n",
       "         0.05703891,  0.0504513 ,  0.05030846,  0.04964717,  0.05527912,\n",
       "         0.05505015,  0.05300997,  0.05666175,  0.05194461,  0.05285602,\n",
       "         0.04745543,  0.04845737,  0.06112591,  0.0618802 ,  0.05203189,\n",
       "         0.04772902,  0.04888131,  0.05516703,  0.05350052,  0.05750258,\n",
       "         0.05566132,  0.05114189,  0.05625689,  0.05362005,  0.0567797 ,\n",
       "         0.05607492,  0.04877354,  0.06141047,  0.05675979,  0.0479722 ,\n",
       "         0.05513303,  0.05479127,  0.0607776 ,  0.05489558,  0.05240415,\n",
       "         0.06126635,  0.05402182,  0.05560279,  0.05468408,  0.05623053,\n",
       "         0.06073662,  0.05434289,  0.05724304,  0.05592725,  0.04744453,\n",
       "         0.05547931,  0.04679073,  0.05474481,  0.06200926,  0.05960607,\n",
       "         0.05609611,  0.04927787,  0.04968866,  0.049715  ,  0.06027223,\n",
       "         0.05490651,  0.05588015,  0.05089453,  0.0480518 ,  0.06189155,\n",
       "         0.0463432 ,  0.04997093,  0.05061415,  0.0561916 ,  0.06092801,\n",
       "         0.05974492,  0.0505696 ,  0.05095252,  0.04774598,  0.05388056,\n",
       "         0.05545168,  0.0557082 ,  0.05666698,  0.04761545,  0.06159242,\n",
       "         0.04995979,  0.04726371,  0.0467895 ,  0.05684768,  0.05424367,\n",
       "         0.05063605,  0.05456011,  0.05722361,  0.04791863,  0.05714963,\n",
       "         0.04584011,  0.04796999,  0.06103055,  0.05430878,  0.05643506,\n",
       "         0.04887789,  0.05417488,  0.05310957,  0.0475389 ,  0.06252299,\n",
       "         0.06298132,  0.05751897,  0.05576448,  0.06242329,  0.05683527,\n",
       "         0.04597849,  0.04808376,  0.05371737,  0.06215129,  0.05595143],\n",
       "       [ 0.09484136,  0.03847684,  0.09410429,  0.0439122 ,  0.03138943,\n",
       "         0.09285892,  0.04179555,  0.04180252,  0.04977726,  0.00660295,\n",
       "         0.04992244,  0.03991723,  0.09674907,  0.00961554,  0.05733014,\n",
       "         0.04210572,  0.04793226,  0.01223693,  0.03420977,  0.04004153,\n",
       "         0.08978786,  0.05083653,  0.02388344,  0.04335849,  0.07887418,\n",
       "         0.09036114,  0.00807256,  0.01264252,  0.08232105,  0.04564222,\n",
       "         0.07126664,  0.00495798,  0.02323351,  0.09458968,  0.03961959,\n",
       "         0.03205375,  0.08729409,  0.09133844,  0.0133392 ,  0.04369034,\n",
       "         0.09423185,  0.03439567,  0.09130523,  0.09752184,  0.03655723,\n",
       "         0.05733563,  0.02824821,  0.02145073,  0.02403548,  0.04360943,\n",
       "         0.04601934,  0.03009597,  0.05464239,  0.03147869,  0.03590427,\n",
       "         0.00813469,  0.0165863 ,  0.09220547,  0.09222669,  0.02661991,\n",
       "         0.01111147,  0.01378674,  0.04740995,  0.03511267,  0.06535071,\n",
       "         0.04850484,  0.02995607,  0.0586662 ,  0.03904077,  0.05345898,\n",
       "         0.05492941,  0.01157095,  0.08977827,  0.05712134,  0.01169668,\n",
       "         0.04270625,  0.04476068,  0.08802104,  0.04311959,  0.03368299,\n",
       "         0.09172929,  0.03728986,  0.0486793 ,  0.04334615,  0.05257546,\n",
       "         0.08957498,  0.04301257,  0.05300387,  0.05239017,  0.01030115,\n",
       "         0.0451128 ,  0.00869502,  0.04833439,  0.09598256,  0.0836495 ,\n",
       "         0.04962376,  0.02054058,  0.01483889,  0.02440544,  0.08268737,\n",
       "         0.04548078,  0.04804027,  0.02757127,  0.01098787,  0.09446411,\n",
       "         0.00374316,  0.02051859,  0.02722745,  0.05014784,  0.0914818 ,\n",
       "         0.078775  ,  0.02557594,  0.02764339,  0.01214364,  0.04001741,\n",
       "         0.05085935,  0.04981452,  0.05384486,  0.01154593,  0.09385775,\n",
       "         0.02354474,  0.006855  ,  0.00493255,  0.04941182,  0.04493046,\n",
       "         0.02133876,  0.04155283,  0.05985594,  0.01445761,  0.0529498 ,\n",
       "         0.00299711,  0.01152977,  0.08779634,  0.03940148,  0.05143736,\n",
       "         0.01109526,  0.03876022,  0.04082736,  0.0086977 ,  0.0982737 ,\n",
       "         0.09719812,  0.05782239,  0.05048797,  0.09594611,  0.05180421,\n",
       "         0.00368787,  0.01333411,  0.04398482,  0.09346055,  0.05617117],\n",
       "       [ 0.03694177,  0.02939773,  0.03484796,  0.03177224, -0.00025053,\n",
       "         0.03415146,  0.01416031,  0.02096339,  0.0278917 , -0.02788011,\n",
       "         0.0256788 ,  0.03092971,  0.03700465, -0.02706431, -0.0145024 ,\n",
       "         0.01810001,  0.02131373, -0.03298396, -0.02377595,  0.03067806,\n",
       "         0.02824179,  0.02932249, -0.01066862,  0.03281826,  0.00907269,\n",
       "         0.03270897, -0.02990932, -0.02968499,  0.01856619,  0.01352743,\n",
       "         0.00233579, -0.02904138, -0.02021407,  0.03614236,  0.01927789,\n",
       "        -0.01083583,  0.02690709,  0.03149044, -0.01985814,  0.03162598,\n",
       "         0.03948558, -0.02477315,  0.03710996,  0.03909972,  0.02539429,\n",
       "         0.0293803 , -0.02581054, -0.02663668, -0.02519289,  0.01403014,\n",
       "         0.03318991, -0.01421811,  0.02213001,  0.02380706,  0.02681263,\n",
       "        -0.02035664,  0.00457117,  0.0304456 ,  0.03920466, -0.00701573,\n",
       "        -0.02582152, -0.01875851,  0.01956649,  0.00935406,  0.02216446,\n",
       "         0.03173267,  0.01963076, -0.01308606,  0.02913854,  0.0224272 ,\n",
       "         0.02420749, -0.02492838,  0.03701706,  0.02823569, -0.02285947,\n",
       "         0.01980969,  0.03402654,  0.03021501,  0.01894056,  0.02354476,\n",
       "         0.0351731 ,  0.00013989,  0.02740612,  0.03332531,  0.027318  ,\n",
       "         0.03372344,  0.03079098,  0.03224175,  0.02127261, -0.03073273,\n",
       "         0.02097677, -0.03078879,  0.01938388,  0.03908147,  0.02662719,\n",
       "         0.02218659,  0.01156257, -0.02162986,  0.01442117,  0.02572607,\n",
       "         0.02257226,  0.01207297,  0.01413315, -0.02436396,  0.03864135,\n",
       "        -0.03025887, -0.02434993,  0.01447686,  0.01433201,  0.03674562,\n",
       "         0.00963204,  0.01724938, -0.01996249, -0.03029063,  0.03017428,\n",
       "         0.02819645,  0.02628065,  0.0257102 , -0.02677422,  0.03709308,\n",
       "         0.01365432, -0.02566387, -0.0211387 ,  0.0249468 ,  0.02203263,\n",
       "        -0.02330155,  0.03172416, -0.00794276,  0.00176981,  0.03289798,\n",
       "        -0.02994477, -0.02736312,  0.03463753,  0.0143518 ,  0.03307963,\n",
       "        -0.02897611,  0.0267608 ,  0.0114851 , -0.02444591,  0.03895561,\n",
       "         0.04081004,  0.0276223 ,  0.01448031,  0.04018559,  0.03202698,\n",
       "        -0.0328379 , -0.02970587, -0.01004963,  0.04039538,  0.02624383]])"
      ]
     },
     "execution_count": 144,
     "metadata": {},
     "output_type": "execute_result"
    }
   ],
   "source": [
    "kmeans.cluster_centers_"
   ]
  },
  {
   "cell_type": "code",
   "execution_count": 78,
   "metadata": {
    "collapsed": true
   },
   "outputs": [],
   "source": [
    "all_words=[v for k,v in itw.items()]"
   ]
  },
  {
   "cell_type": "code",
   "execution_count": 52,
   "metadata": {},
   "outputs": [
    {
     "data": {
      "text/plain": [
       "28.885169506072998"
      ]
     },
     "execution_count": 52,
     "metadata": {},
     "output_type": "execute_result"
    }
   ],
   "source": [
    "from sklearn.neighbors import NearestNeighbors\n",
    "import time\n",
    "t1=time.time()\n",
    "nbrs = NearestNeighbors(n_neighbors=5, algorithm='kd_tree').fit(X)\n",
    "time.time()-t1"
   ]
  },
  {
   "cell_type": "code",
   "execution_count": 58,
   "metadata": {},
   "outputs": [
    {
     "name": "stdout",
     "output_type": "stream",
     "text": [
      "2156 new york university_2\n",
      "3977 nyu_2\n",
      "2516 city college_2\n",
      "225 columbia university_2\n",
      "1533 columbia college_2\n"
     ]
    }
   ],
   "source": [
    "name='new york university_2'\n",
    "distances, indices = nbrs.kneighbors(X[wti[name]].reshape(1, -1))\n",
    "indices          \n",
    "for i in indices[0]:\n",
    "    print(i, itw[i])"
   ]
  },
  {
   "cell_type": "code",
   "execution_count": 75,
   "metadata": {
    "collapsed": true
   },
   "outputs": [],
   "source": [
    "import pickle\n",
    "d = pickle.load(file = open('yahoo.p','rb'))"
   ]
  },
  {
   "cell_type": "code",
   "execution_count": 83,
   "metadata": {},
   "outputs": [
    {
     "data": {
      "text/plain": [
       "[('shinzo abe_1', 463),\n",
       " ('donald trump_1', 199),\n",
       " ('white house_2', 142),\n",
       " ('barack obama_1', 96),\n",
       " ('trump_1', 89),\n",
       " ('trump_2', 73),\n",
       " ('mar-a-lago_2', 71),\n",
       " ('united_2', 59),\n",
       " ('xi jinping_1', 57),\n",
       " ('sean spicer_1', 54),\n",
       " ('associated press_2', 53),\n",
       " (\"donald trump's_1\", 51),\n",
       " ('obama_1', 49),\n",
       " ('mike pence_1', 48),\n",
       " ('yahoo_2', 46),\n",
       " ('united nations_2', 45),\n",
       " ('vladimir putin_1', 45),\n",
       " ('melania trump_1', 39),\n",
       " ('u.n_2', 39),\n",
       " ('kim jong un_1', 37),\n",
       " ('facebook_2', 36),\n",
       " ('state_2', 31),\n",
       " ('cnn_2', 31),\n",
       " ('reuters_2', 29),\n",
       " ('kellyanne conway_1', 28),\n",
       " ('hillary clinton_1', 28),\n",
       " ('u.n. security council_2', 27),\n",
       " ('senate_2', 27),\n",
       " ('michael flynn_1', 26),\n",
       " ('nato_2', 26),\n",
       " ('donald_1', 26),\n",
       " ('mari yamaguchi_1', 25),\n",
       " ('defense_2', 25),\n",
       " ('washington post_2', 25),\n",
       " ('rex tillerson_1', 24),\n",
       " ('abc_2', 24),\n",
       " ('chinese foreign ministry_2', 23),\n",
       " ('security council_2', 23),\n",
       " ('akihito_1', 22),\n",
       " ('yoshihide suga_1', 21),\n",
       " ('ben blanchard_1', 21),\n",
       " ('un_2', 21),\n",
       " ('abc news_2', 21),\n",
       " ('kim jong_1', 21),\n",
       " ('isis_2', 20),\n",
       " ('post_2', 20),\n",
       " ('state department_2', 20),\n",
       " ('justin trudeau_1', 19),\n",
       " ('park geun-hye_1', 19),\n",
       " ('george w. bush_1', 19),\n",
       " ('united nations security council_2', 18),\n",
       " ('tomomi inada_1', 18),\n",
       " ('army_2', 18),\n",
       " ('moon jae-in_1', 17),\n",
       " ('steve bannon_1', 17),\n",
       " ('congress_2', 17),\n",
       " ('pentagon_2', 17),\n",
       " ('michiko_1', 17),\n",
       " ('donald j. trump_1', 17),\n",
       " ('navy_2', 17),\n",
       " ('rodrigo duterte_1', 17),\n",
       " ('malcolm turnbull_1', 17),\n",
       " ('un security council_2', 16),\n",
       " ('putin_1', 16),\n",
       " ('kcna_2', 16),\n",
       " ('john mccain_1', 16),\n",
       " ('akie abe_1', 16),\n",
       " ('nordstrom_2', 16),\n",
       " ('thaad_2', 15),\n",
       " ('hua chunying_1', 15),\n",
       " ('sergey kislyak_1', 15),\n",
       " ('north_1', 14),\n",
       " ('new york times_2', 14),\n",
       " ('uss carl vinson_2', 14),\n",
       " ('9th circuit court of appeals_2', 14),\n",
       " ('supreme court_2', 14),\n",
       " ('ap_2', 13),\n",
       " ('jack kim_1', 13),\n",
       " ('secret service_2', 13),\n",
       " ('hwang kyo-ahn_1', 13),\n",
       " ('fumio kishida_1', 12),\n",
       " ('kim_1', 12),\n",
       " ('yahoo news_2', 12),\n",
       " ('kyodo_2', 12),\n",
       " ('angela merkel_1', 12),\n",
       " ('eu_2', 12),\n",
       " ('democratic_2', 12),\n",
       " ('neil gorsuch_1', 12),\n",
       " ('jeff sessions_1', 12),\n",
       " ('abc news videos_2', 12),\n",
       " ('kremlin_2', 12),\n",
       " ('nhk_2', 12),\n",
       " ('united states_2', 12),\n",
       " ('defense department_2', 11),\n",
       " ('ivanka trump_1', 11),\n",
       " ('gop_2', 11),\n",
       " ('devin nunes_1', 11),\n",
       " ('cbs_2', 11),\n",
       " ('trans pacific partnership_2', 11),\n",
       " ('carl vinson_1', 11),\n",
       " ('nikki haley_1', 11),\n",
       " ('mitch mcconnell_1', 11),\n",
       " ('department of justice_2', 11),\n",
       " ('taro aso_1', 11),\n",
       " ('islamic state_2', 11),\n",
       " ('richard deagazio_1', 10),\n",
       " ('h.r. mcmaster_1', 10),\n",
       " ('jim mattis_1', 10),\n",
       " ('japan times_2', 10),\n",
       " ('kaori kaneko_1', 10),\n",
       " ('james mattis_1', 10),\n",
       " ('assad_1', 10),\n",
       " ('fbi_2', 10),\n",
       " ('schiff_1', 10),\n",
       " ('sally yates_1', 10),\n",
       " ('adam_1', 10),\n",
       " ('house intelligence committee_2', 10),\n",
       " ('volkswagen_2', 10),\n",
       " ('donald trump’s_1', 10),\n",
       " ('customs enforcement_2', 10),\n",
       " ('geng shuang_1', 10),\n",
       " ('joint chiefs of staff_2', 10),\n",
       " ('theresa may_1', 10),\n",
       " ('setsu kobayashi_1', 10),\n",
       " ('keio university_2', 10),\n",
       " ('michael_1', 10),\n",
       " ('phil stewart_1', 9),\n",
       " ('linda sieg_1', 9),\n",
       " ('dprk_2', 9),\n",
       " ('u.s. defense_2', 9),\n",
       " ('james pearson_1', 9),\n",
       " ('foreign ministry_2', 9),\n",
       " ('britney spears_1', 9),\n",
       " ('yasunori kagoike_1', 9),\n",
       " ('steven dennis_1', 9),\n",
       " ('donald mcgahn_1', 9),\n",
       " ('carolyn kasterap) read_1', 9),\n",
       " ('michael isikoff_1', 9),\n",
       " ('msnbc_2', 9),\n",
       " ('et: politico_2', 9),\n",
       " ('usa today_2', 9),\n",
       " ('trump administration.” trump_2', 9),\n",
       " ('cbs news_2', 9),\n",
       " ('defense intelligence agency_2', 9),\n",
       " ('intelligence committee_2', 9),\n",
       " ('npr_2', 9),\n",
       " ('kim jong-un_1', 9),\n",
       " ('james_1', 9),\n",
       " ('nba_2', 9),\n",
       " ('duterte_1', 9),\n",
       " ('center for strategic and international studies_2', 9),\n",
       " ('european union_2', 9),\n",
       " ('house_2', 9),\n",
       " ('twitter_2', 9),\n",
       " ('marine corps_2', 9),\n",
       " ('lu kang_1', 8),\n",
       " ('rory mcilroy_1', 8),\n",
       " ('national security council_2', 8),\n",
       " ('bbc_2', 8),\n",
       " ('judicial watch_2', 8),\n",
       " ('hillary_1', 8),\n",
       " ('johnny lenoir_1', 8),\n",
       " ('justin timberlake_1', 8),\n",
       " ('garcia de rayos_1', 8),\n",
       " ('joe manchin_1', 8),\n",
       " ('elizabeth warren’s_1', 8),\n",
       " ('jennifer_1', 8),\n",
       " ('jessica_1', 8),\n",
       " ('rasheed muhammad_1', 8),\n",
       " ('newsweek_2', 8),\n",
       " ('rodrigo_1', 8),\n",
       " ('saddam hussein_1', 8),\n",
       " ('yonhap_2', 8),\n",
       " ('ivanka_1', 8),\n",
       " ('u.s. navy_2', 8),\n",
       " ('japan meteorological agency_2', 8),\n",
       " ('john kerry_1', 8),\n",
       " ('karen klein_1', 8),\n",
       " ('kenny goss_1', 8),\n",
       " ('wilbur ross_1', 8),\n",
       " ('roberta rampton_1', 8),\n",
       " ('paul tait_1', 8),\n",
       " ('rick_1', 7),\n",
       " ('tim kelly_1', 7),\n",
       " (\"melania trump's_1\", 7),\n",
       " ('boeing_2', 7),\n",
       " ('najib razak_1', 7),\n",
       " ('steve holland_1', 7),\n",
       " ('george h.w. bush_1', 7),\n",
       " ('trump organization_2', 7),\n",
       " ('jonathan wackrow_1', 7),\n",
       " ('tom_1', 7),\n",
       " ('fitton_1', 7),\n",
       " ('defense and homeland security_2', 7),\n",
       " ('john kirby_1', 7),\n",
       " ('tory johnson_1', 7),\n",
       " ('charles oakley_1', 7),\n",
       " ('new york knicks_2', 7),\n",
       " ('white house press_2', 7),\n",
       " ('michael perry_1', 7),\n",
       " ('xinhua_2', 7),\n",
       " ('nbc news_2', 7),\n",
       " ('dmitry peskov_1', 7),\n",
       " ('justice department_2', 7),\n",
       " ('cia_2', 7),\n",
       " ('kiyoshi takenaka_1', 7),\n",
       " ('carrie fisher_1', 7),\n",
       " ('the washington post_2', 7),\n",
       " ('tsumoru matsumoto_1', 7),\n",
       " ('susan thornton_1', 7),\n",
       " ('state rex_2', 7),\n",
       " ('narendra_1', 7),\n",
       " ('u.s. marine corps_2', 7),\n",
       " ('david lawder_1', 7),\n",
       " ('treasury department_2', 7),\n",
       " ('david brunnstrom_1', 7),\n",
       " ('michelle obama_1', 6),\n",
       " ('benjamin_1', 6),\n",
       " ('u.s. state department_2', 6),\n",
       " ('david wright_1', 6),\n",
       " ('tony munroe_1', 6),\n",
       " ('jeff davis_1', 6),\n",
       " ('david cameron. trump_1', 6),\n",
       " ('starbucks_2', 6),\n",
       " ('trump international golf_2', 6),\n",
       " (\"shinzo abe's_1\", 6),\n",
       " ('clinton_1', 6),\n",
       " ('jonathan lemire_1', 6),\n",
       " ('david_1', 6),\n",
       " ('u.s. treasury department_2', 6),\n",
       " ('jason_1', 6),\n",
       " ('afp_2', 6),\n",
       " ('9th circuit_2', 6),\n",
       " ('coast guard_2', 6),\n",
       " ('amnesty international_2', 6),\n",
       " ('bill richardson_1', 6),\n",
       " ('ian williams_1', 6),\n",
       " ('james kitfield_1', 6),\n",
       " ('william perry_1', 6),\n",
       " ('missile defense project_2', 6),\n",
       " ('center for the study of the presidency & congress. read_2', 6),\n",
       " ('moab_2', 6),\n",
       " ('air china_2', 6),\n",
       " ('angela_1', 6),\n",
       " ('xinhua news agency_2', 6),\n",
       " ('house of representatives_2', 6),\n",
       " ('josh lederman_1', 6),\n",
       " ('paul ryan_1', 6),\n",
       " ('mccain_1', 6),\n",
       " ('korean central news agency_2', 6),\n",
       " ('marco rubio_1', 6),\n",
       " ('exxon mobil_2', 6),\n",
       " ('chris_1', 6),\n",
       " ('eurasia_2', 6),\n",
       " ('kyodo news_2', 6),\n",
       " ('sara haines_1', 6),\n",
       " ('fadi dawaz_1', 6),\n",
       " ('david wayne_1', 6),\n",
       " ('jimmy kimmel_1', 6),\n",
       " ('cyrus porter_1', 6),\n",
       " ('thomas bossert_1', 6),\n",
       " ('peter newsham_1', 6),\n",
       " ('ruston kelly_1', 6),\n",
       " ('jonbenet ramsey_1', 6),\n",
       " ('taylor swift_1', 6),\n",
       " ('frazier_1', 6),\n",
       " ('simon halls_1', 6),\n",
       " ('kelsea ballerini_1', 6),\n",
       " ('billie lourd_1', 6),\n",
       " ('tricia lynn mccauley_1', 6),\n",
       " ('leia organa_1', 6),\n",
       " ('fraser_1', 6),\n",
       " ('ashley monroe_1', 6),\n",
       " ('kacey musgraves_1', 6),\n",
       " ('morgan evans_2', 6),\n",
       " ('box office mojo_2', 6),\n",
       " ('susumu inamine_1', 6),\n",
       " ('marine corps air station_2', 6),\n",
       " ('u.s. commerce_2', 6),\n",
       " ('michael martina_1', 6),\n",
       " ('minami funakoshi_1', 6),\n",
       " ('toyota_2', 6),\n",
       " ('eric beech_1', 5),\n",
       " ('michael kors_1', 5),\n",
       " ('elaine lies_1', 5),\n",
       " ('michelle nichols_1', 5),\n",
       " ('ash carter_1', 5),\n",
       " ('university of tokyo_2', 5),\n",
       " ('tay tay_1', 5),\n",
       " ('masako_1', 5),\n",
       " ('sayako kuroda_1', 5),\n",
       " ('margaret_1', 5),\n",
       " ('kenneth ruoff_1', 5),\n",
       " ('zac_1', 5),\n",
       " ('akishino_1', 5),\n",
       " ('owada_1', 5),\n",
       " ('naruhito_1', 5),\n",
       " ('oxford_2', 5),\n",
       " ('diet parliament_2', 5),\n",
       " ('walter_1', 5),\n",
       " ('leonore_1', 5),\n",
       " ('fukushima_1', 5),\n",
       " ('marine_2', 5),\n",
       " ('jim_1', 5),\n",
       " ('rand paul_1', 5),\n",
       " ('john kelly_1', 5),\n",
       " ('cabinet_2', 5),\n",
       " ('ranil wickremesinghe_1', 5),\n",
       " ('tom westbrook, colin packham_1', 5),\n",
       " ('julie bishop_1', 5),\n",
       " ('josh frydenberg_1', 5),\n",
       " ('randy fabi) j.s.: trump_1', 5),\n",
       " ('international court of justice_2', 5),\n",
       " ('sea shepherd_2', 5),\n",
       " ('donald tusk_1', 5),\n",
       " ('emmanuel macron_1', 5),\n",
       " ('yomiuri shimbun_2', 5),\n",
       " ('mainichi_2', 5),\n",
       " ('marjorie merriweather_1', 5),\n",
       " (\"michael flynn's_1\", 5),\n",
       " ('james comey_1', 5),\n",
       " ('fox news_2', 5),\n",
       " ('wall street journal_2', 5),\n",
       " ('yeganeh torbati_1', 5),\n",
       " ('nick_1', 5),\n",
       " ('ben cardin_1', 5),\n",
       " ('jack reed_1', 5),\n",
       " ('defense jim_2', 5),\n",
       " ('jared kushner_1', 5),\n",
       " ('benjamin netanyahu_1', 5),\n",
       " ('honda_2', 5),\n",
       " ('jim gomez_1', 5),\n",
       " ('rolling stone_2', 5),\n",
       " ('comey_1', 5),\n",
       " ('lincoln_2', 5),\n",
       " ('tsai ing-wen_1', 5),\n",
       " ('lawrence_1', 5),\n",
       " ('yang jiechi_1', 5),\n",
       " ('u.n. general assembly_2', 5),\n",
       " ('hyonhee shin_1', 5),\n",
       " ('china daily_2', 5),\n",
       " ('linda_1', 5),\n",
       " ('tpp_2', 5),\n",
       " ('nancy pelosi_1', 5),\n",
       " ('fta_2', 5),\n",
       " ('narendra modi_1', 5),\n",
       " ('enrique pena nieto_1', 5),\n",
       " ('sergey lavrov_1', 5),\n",
       " ('clarence_1', 5),\n",
       " ('kaori_1', 4),\n",
       " ('roland mouret_1', 4),\n",
       " ('michael kors, calvin klein_1', 4),\n",
       " ('ralph lauren_1', 4),\n",
       " ('jared kushner(r)_1', 4),\n",
       " ('roland mouret_2', 4),\n",
       " ('barron trump_2', 4),\n",
       " ('united states, melania trump_2', 4),\n",
       " ('itsunori onodera_1', 4),\n",
       " (\"seoul's institute for far eastern studies_2\", 4),\n",
       " (\"nasuonsen family ski resort, japan's kyodo_2\", 4),\n",
       " ('yun hwan chae_1', 4),\n",
       " ('gary ross_1', 4),\n",
       " ('ban ki-moon_1', 4),\n",
       " ('jeffrey lewis_1', 4),\n",
       " ('doina chiacu, idrees ali_1', 4),\n",
       " ('kirsti knolle_1', 4),\n",
       " ('middlebury institute of international studies_2', 4),\n",
       " ('u.s. air force_2', 4),\n",
       " ('vladimir_1', 4),\n",
       " ('obama administration_2', 4),\n",
       " ('akie_1', 4),\n",
       " ('sitrep hq. best_2', 4),\n",
       " ('treasury_2', 4),\n",
       " ('u.s. army_2', 4),\n",
       " ('house freedom caucus_2', 4),\n",
       " ('house gop_2', 4),\n",
       " ('trump national golf club_2', 4),\n",
       " ('priebus_1', 4),\n",
       " ('wang yi_1', 4),\n",
       " ('pyongyang university of science and technology_2', 4),\n",
       " ('liu jieyi_1', 4),\n",
       " ('ivanka trump&#39;s_1', 4),\n",
       " ('elizabeth warren_1', 4),\n",
       " ('madonna_1', 4),\n",
       " ('coretta scott king_1', 4),\n",
       " (\"clive davis'_1\", 4),\n",
       " ('betsy devos_1', 4),\n",
       " ('brian bonsall_1', 4),\n",
       " ('andrew keaton_1', 4),\n",
       " ('kittrell_1', 4),\n",
       " ('nathan_1', 4),\n",
       " ('abc news. kittrell_2', 4),\n",
       " ('9th circuit appeals court_2', 4),\n",
       " ('ohio state university_2', 4),\n",
       " ('roshan seneviratne_1', 4),\n",
       " ('brics_2', 4),\n",
       " ('marine le pen_1', 4),\n",
       " ('le pen_1', 4),\n",
       " ('bahram ghasemi_1', 4),\n",
       " ('darlene superville_1', 4),\n",
       " ('jill colvin_1', 4),\n",
       " ('james robart_1', 4),\n",
       " ('reagan_1', 4),\n",
       " ('alexander_1', 4),\n",
       " ('enrique peña nieto_1', 4),\n",
       " ('dnc_2', 4),\n",
       " ('phoenix robert lachey.vanessa_1', 4),\n",
       " ('george michael_1', 4),\n",
       " ('carole king_1', 4),\n",
       " ('vanessa_1', 4),\n",
       " ('hyatt ziva cancun_1', 4),\n",
       " ('irs_2', 4),\n",
       " ('bashar al-assad_1', 4),\n",
       " ('interfax_2', 4),\n",
       " ('ray ybarra maldonado_1', 4),\n",
       " ('guadalupe garcia de rayos_1', 4),\n",
       " ('jaqueline_1', 4),\n",
       " ('phoenix police department_2', 4),\n",
       " (\"department of justice's executive office for immigration review_2\", 4),\n",
       " ('u.s. immigration and customs enforcement_2', 4),\n",
       " ('vandenberg air force_2', 4),\n",
       " ('us air force global strike command_2', 4),\n",
       " ('matthew daly_1', 4),\n",
       " ('julie pace_1', 4),\n",
       " ('reince priebus_1', 4),\n",
       " ('robert_1', 4),\n",
       " ('air force_2', 4),\n",
       " ('north korea,”_1', 4),\n",
       " ('meredith sumpter_1', 4),\n",
       " ('chinese communist_2', 4),\n",
       " ('yoshihide_1', 4),\n",
       " ('jean lee_1', 4),\n",
       " ('sony_2', 4),\n",
       " ('monroe_1', 4),\n",
       " ('ministry of international trade and industry_2', 4),\n",
       " ('nicholson_1', 4),\n",
       " ('u.s. strategic command_2', 4),\n",
       " ('susan rice_1', 4),\n",
       " ('labour_2', 4),\n",
       " ('kim jung-un_1', 4),\n",
       " ('chris christie_1', 4),\n",
       " ('sanjeev miglani_1', 4),\n",
       " ('pope francis_1', 4),\n",
       " ('ernst_2', 4),\n",
       " ('rodong sinmun_1', 4),\n",
       " ('rubio_1', 4),\n",
       " ('north_2', 4),\n",
       " ('jason chaffetz_1', 4),\n",
       " ('toyota motor_2', 4),\n",
       " ('jokowi_1', 4),\n",
       " ('joko \"jokowi\" widodo_1', 4),\n",
       " ('recep tayyip erdogan_1', 4),\n",
       " ('chinese navy_2', 4),\n",
       " ('tetsushi kajimoto_1', 4),\n",
       " ('hiroshige_1', 4),\n",
       " ('goldman sachs_2', 4),\n",
       " ('paul_1', 3),\n",
       " ('unification ministry_2', 3),\n",
       " ('moon_1', 3),\n",
       " ('panasonic_2', 3),\n",
       " (\"japan's ministry of health, labour_2\", 3),\n",
       " ('all nippon airways_2', 3),\n",
       " ('shen jinke_1', 3),\n",
       " ('chinese defence ministry_2', 3),\n",
       " (\"china's air force_2\", 3),\n",
       " ('diaoyus_2', 3),\n",
       " ('eric trump_1', 3),\n",
       " ('marjorie merriweather post_1', 3),\n",
       " ('g-7_2', 3),\n",
       " ('john hudson_1', 3),\n",
       " ('paul mcleary_1', 3),\n",
       " ('stephanie grisham. paul_1', 3),\n",
       " ('mick mulvaney_1', 3),\n",
       " ('financial times_2', 3),\n",
       " ('fox_1', 3),\n",
       " ('trump administration_2', 3),\n",
       " ('ralph boulton_1', 3),\n",
       " ('tony kim_1', 3),\n",
       " ('japan maritime self defense force_2', 3),\n",
       " (\"korean people's army_2\", 3),\n",
       " ('jon karl_1', 3),\n",
       " ('rob marciano_1', 3),\n",
       " ('neil gorsuch&#39;s_1', 3),\n",
       " ('jeff sessions confirmed_1', 3),\n",
       " ('andrew m. cuomo_1', 3),\n",
       " ('max golembo_1', 3),\n",
       " ('new york city department of sanitation_2', 3),\n",
       " ('capitol hill_2', 3),\n",
       " ('nws_2', 3),\n",
       " ('odds with his supreme court_2', 3),\n",
       " ('east coast madonna adopts twins_2', 3),\n",
       " ('rex_1', 3),\n",
       " ('nippon kaigi_2', 3),\n",
       " ('ava duvernay_1', 3),\n",
       " ('benjamin wittes_1', 3),\n",
       " ('bob woodruff_1', 3),\n",
       " ('anura yapa_1', 3),\n",
       " ('g20_2', 3),\n",
       " ('defense ministry_2', 3),\n",
       " ('global times_2', 3),\n",
       " ('communist party_2', 3),\n",
       " ('nigel farage_1', 3),\n",
       " ('ahn cheol-soo_1', 3),\n",
       " ('hong joon-pyo_1', 3),\n",
       " ('nec_2', 3),\n",
       " ('national election commission_2', 3),\n",
       " ('democratic party_2', 3),\n",
       " ('bruce_1', 3),\n",
       " ('ivanka. trump_1', 3),\n",
       " ('university of texas_2', 3),\n",
       " ('winter white house_2', 3),\n",
       " ('malcolm_1', 3),\n",
       " ('keith kellogg_1', 3),\n",
       " ('tom price_1', 3),\n",
       " ('sergei lavrov_1', 3),\n",
       " ('andrew puzder_1', 3),\n",
       " ('palm beach post_2', 3),\n",
       " ('9th circuit court_2', 3),\n",
       " ('politico_2', 3),\n",
       " ('nguyen xuan phuc_1', 3),\n",
       " ('the associated press_2', 3),\n",
       " ('donald jr_1', 3),\n",
       " ('harry_1', 3),\n",
       " ('hope hicks_1', 3),\n",
       " ('netflix_2', 3),\n",
       " (\"cocke county sheriff's office_2\", 3),\n",
       " ('clinton foundation_2', 3),\n",
       " ('iran foreign ministry_2', 3),\n",
       " ('american millennials iran_2', 3),\n",
       " ('yonhap news agency_2', 3),\n",
       " ('maher_1', 3),\n",
       " ('stephen lawson_1', 3),\n",
       " ('michael biesecker_1', 3),\n",
       " ('follow associated press_2', 3),\n",
       " ('florida department of business_2', 3),\n",
       " ('herald. trump_2', 3),\n",
       " (\"barack obama's_1\", 3),\n",
       " ('vladimir putin. trump_1', 3),\n",
       " ('wilson center_1', 3),\n",
       " ('cronin_1', 3),\n",
       " ('moon jae-in, trump_1', 3),\n",
       " ('edward markey_1', 3),\n",
       " ('north american aerospace defense command_2', 3),\n",
       " ('eddie_1', 3),\n",
       " ('warren beatty_1', 3),\n",
       " ('reynolds_1', 3),\n",
       " ('tricia leigh_1', 3),\n",
       " ('shirley maclaine. fisher_1', 3),\n",
       " ('bob strike_1', 3),\n",
       " ('david caplan_1', 3),\n",
       " ('meryl streep_1', 3),\n",
       " ('paul simon_1', 3),\n",
       " ('lesley messer_1', 3),\n",
       " ('bryan lourd_1', 3),\n",
       " ('joely fisher_1', 3),\n",
       " ('halls_2', 3),\n",
       " ('harry harris_1', 3),\n",
       " ('u.s. pacific command_2', 3),\n",
       " ('smith_1', 3),\n",
       " ('yun_1', 3),\n",
       " ('donald trump. tillerson_1', 3),\n",
       " ('henry kissinger_1', 3),\n",
       " ('yara bayoumy_1', 3),\n",
       " ('akima_1', 3),\n",
       " ('masaki kamei_1', 3),\n",
       " ('joban_2', 3),\n",
       " ('peter_1', 3),\n",
       " ('soyoung kim_1', 3),\n",
       " ('mike pence. pence_1', 3),\n",
       " (\"abe's national security council_2\", 3),\n",
       " ('nsc_2', 3),\n",
       " ('mai nguyen_1', 3),\n",
       " ('ha hoang hop_1', 3),\n",
       " ('hanoi, abe_1', 3),\n",
       " ('my pham_1', 3),\n",
       " ('uss arizona memorial_2', 3),\n",
       " ('susan collins_1', 3),\n",
       " ('flynn_1', 3),\n",
       " ('jill colvin, catherine lucey_1', 3),\n",
       " ('house democratic_2', 3),\n",
       " ('oversight committee_2', 3),\n",
       " ('barack_1', 3),\n",
       " ('lee hsien loong_1', 3),\n",
       " ('justin trudeau, trump_1', 3),\n",
       " ('matthew a. cherry_1', 3),\n",
       " ('dave telfer_1', 3),\n",
       " ('philippe reines_1', 3),\n",
       " ('hrc_2', 3),\n",
       " ('caroline kennedy_1', 3),\n",
       " ('john f. kennedy_1', 3),\n",
       " ('yomiuri_2', 3),\n",
       " ('nick macfie)_1', 3),\n",
       " ('modi_1', 3),\n",
       " ('clarence fernandez)_1', 3),\n",
       " ('jeff mason_1', 3),\n",
       " ('matt spetalnick_1', 3),\n",
       " ('sdf_2', 3),\n",
       " ('sankei shimbun_2', 3),\n",
       " ('center for strategic and international_2', 3),\n",
       " ('yahoo reader: trump_2', 3),\n",
       " ('joni ernst, r-iowa_1', 3),\n",
       " ('xi jinping. trump_1', 3),\n",
       " ('ernst_1', 3),\n",
       " (\"ivanka trump's_1\", 3),\n",
       " ('ninth circuit_2', 3),\n",
       " ('republican_2', 3),\n",
       " ('fisher carrie fisher_1', 3),\n",
       " ('alexander litvinenko_1', 3),\n",
       " ('diaoyu_1', 3),\n",
       " ('patricia espinosa_1', 3),\n",
       " ('francois hollande_1', 3),\n",
       " ('recep tayypip erdogan_1', 3),\n",
       " ('bashar assad_1', 3),\n",
       " ('eu. turnbull_2', 3),\n",
       " (\"united nations'_2\", 3),\n",
       " ('parliament_2', 3),\n",
       " ('richard_1', 3),\n",
       " ('xi jinping, trump_1', 3),\n",
       " ('arun jaitley_1', 3),\n",
       " ('sarah watson_1', 3),\n",
       " ('chelsea clinton_1', 3),\n",
       " ('stephen miller_1', 3),\n",
       " ('carrie_1', 3),\n",
       " ('li keqiang_1', 3),\n",
       " ('julia harte_1', 3),\n",
       " ('sheldon whitehouse_1', 3),\n",
       " ('dan_1', 3),\n",
       " ('william callahan_1', 3),\n",
       " ('tom udall_1', 3),\n",
       " ('u.s. secret service_2', 3),\n",
       " ('barack obama. if trump_2', 3),\n",
       " ('trump white house_2', 3),\n",
       " ('ronald reagan_1', 3),\n",
       " ('apec_2', 3),\n",
       " ('vladimir soldatkin_1', 3),\n",
       " ('peter thiel_1', 3),\n",
       " ('francois fillon_1', 3),\n",
       " ('james t. vaughn correctional center_2', 3),\n",
       " ('new zealand department of internal affairs_2', 3),\n",
       " ('barack obama. he_1', 2),\n",
       " ('takaya_1', 2),\n",
       " ('yamaguchi_1', 2),\n",
       " ('moon, trump_1', 2),\n",
       " ('united states. trump_2', 2),\n",
       " ('triton_2', 2),\n",
       " ('shinichi saoshiro_1', 2),\n",
       " ('blue house_2', 2),\n",
       " ('greg_1', 2),\n",
       " ('bobby titcomb, mike ramos_1', 2),\n",
       " ('obamas_2', 2),\n",
       " ('mid pacific country club_2', 2),\n",
       " ('kwanzaa_2', 2),\n",
       " (\"alan wong's restaurant_2\", 2),\n",
       " ('emma watson_1', 2),\n",
       " ('bernie sanders_1', 2),\n",
       " ('bloomberg_2', 2),\n",
       " ('robert burns_1', 2),\n",
       " ('sain_1', 2),\n",
       " ('rob manning_1', 2),\n",
       " ('edith m. lederer_1', 2),\n",
       " ('sebastiano_1', 2),\n",
       " ('republican party_2', 2),\n",
       " (\"lincoln feast) we'll_2\", 2),\n",
       " ('james dalgleish)_1', 2),\n",
       " ('sarah_1', 2),\n",
       " ('north korea. mcmaster_1', 2),\n",
       " ('ken thomas_1', 2),\n",
       " ('k.t. mcfarland_1', 2),\n",
       " ('u.s. army garrison yongsan_2', 2),\n",
       " ('kathleen clark_1', 2),\n",
       " ('akie abe (l)_1', 2),\n",
       " ('tim_1', 2),\n",
       " ('barack obama,\"_1', 2),\n",
       " ('shinzo abe (c)_1', 2),\n",
       " ('franklin d. roosevelt_1', 2),\n",
       " ('sid wrightman_1', 2),\n",
       " (\"donald trump's mar-a-lago_1\", 2),\n",
       " ('washington. associated press_2', 2),\n",
       " ('district of columbia_2', 2),\n",
       " ('mar-a-lago club_2', 2),\n",
       " ('washington university_2', 2),\n",
       " ('assembly, ri yong-ho_1', 2),\n",
       " ('yung byung-se_1', 2),\n",
       " ('traitor obama_1', 2),\n",
       " ('tim kaine_1', 2),\n",
       " ('general assembly_2', 2),\n",
       " ('moritomo gakuen_2', 2),\n",
       " ('prince akishino_1', 2),\n",
       " ('fukushima daiichi_2', 2),\n",
       " ('tokyo electric power co_2', 2),\n",
       " ('national police agency_2', 2),\n",
       " ('miyako kumamoto_2', 2),\n",
       " ('loong_1', 2),\n",
       " ('jason c. brezler_1', 2),\n",
       " ('daniel baer_1', 2),\n",
       " ('tom hanson_1', 2),\n",
       " ('dan de luce_1', 2),\n",
       " ('david francis_1', 2),\n",
       " ('sarwar jan_1', 2),\n",
       " ('rasheed_1', 2),\n",
       " ('u.s. army pacific_2', 2),\n",
       " ('korea joongang daily_2', 2),\n",
       " ('rasheed air base_2', 2),\n",
       " ('washington post. marine_2', 2),\n",
       " ('washington-based institute for science and international_2', 2),\n",
       " ('ihs janes_2', 2),\n",
       " ('people’s liberation army air force_2', 2),\n",
       " ('army research laboratory_2', 2),\n",
       " ('lockheed_2', 2),\n",
       " ('china’s chengdu aircraft industry_2', 2),\n",
       " ('general atomics_2', 2),\n",
       " ('islamic state. satellite_2', 2),\n",
       " ('organisation for security and cooperation in europe_2', 2),\n",
       " ('people’s liberation army_2', 2),\n",
       " ('myong-hyun_1', 2),\n",
       " ('kim hyun-wook_1', 2),\n",
       " ('han tae-song_1', 2),\n",
       " ('asan institute of policy studies_2', 2),\n",
       " ('us energy information_2', 2),\n",
       " ('samantha power_1', 2),\n",
       " ('matthew rycroft_1', 2),\n",
       " ('vitaly churkin_1', 2),\n",
       " ('berger_1', 2),\n",
       " ('security council. us_2', 2),\n",
       " ('nada_2', 2),\n",
       " ('royal united services institute for defence and security studies_2', 2),\n",
       " ('muriel bowser_1', 2),\n",
       " ('arne duncan_1', 2),\n",
       " ('kevin durant_1', 2),\n",
       " ('lin-manuel miranda_1', 2),\n",
       " ('timberlake_1', 2),\n",
       " ('antwan wilson_1', 2),\n",
       " ('reagan tokes_1', 2),\n",
       " ('katy perry_1', 2),\n",
       " ('randi weingarten_1', 2),\n",
       " ('justin timberlake, john_1', 2),\n",
       " ('janet weinstein_1', 2),\n",
       " ('mike pence. devos_1', 2),\n",
       " ('kenneth moton_1', 2),\n",
       " (\"rosie o'donnell_1\", 2),\n",
       " ('ashlin albright_1', 2),\n",
       " ('kellyanne_1', 2),\n",
       " ('ally eckhart_1', 2),\n",
       " ('friendswood high school_2', 2),\n",
       " ('chevy bel_2', 2),\n",
       " ('chevy_2', 2),\n",
       " ('department of education_2', 2),\n",
       " ('dc public school_2', 2),\n",
       " ('wjla-tv_2', 2),\n",
       " ('houston store_2', 2),\n",
       " ('u.s. department of education_2', 2),\n",
       " ('american federation of teachers_2', 2),\n",
       " ('dc public schools_2', 2),\n",
       " ('jefferson middle school_2', 2),\n",
       " ('d.c. chancellor of public schools_2', 2),\n",
       " ('academy_2', 2),\n",
       " ('jim yong kim_1', 2),\n",
       " ('jiao qing_1', 2),\n",
       " ('michelle martin_1', 2),\n",
       " ('catherine evans) trump_1', 2),\n",
       " ('thomas escritt_1', 2),\n",
       " ('meng meng_1', 2),\n",
       " ('larry king_1', 2),\n",
       " ('madeline_1', 2),\n",
       " ('putins_2', 2),\n",
       " ('handelsblatt_2', 2),\n",
       " ('die zeit_2', 2),\n",
       " ('christopher go_1', 2),\n",
       " ('sakura_1', 2),\n",
       " ('european commission_2', 2),\n",
       " ('mariano rajoy_1', 2),\n",
       " ('north korea. hong_1', 2),\n",
       " ('lee sun-jin_1', 2),\n",
       " ('north korean threats. abe_1', 2),\n",
       " ('liberal moon jae-in_2', 2),\n",
       " ('national assembly_2', 2),\n",
       " ('robert weissman_1', 2),\n",
       " ('honma_1', 2),\n",
       " ('red cross_2', 2),\n",
       " ('dana boente_1', 2),\n",
       " ('jon huntsman_1', 2),\n",
       " (\"bill o'reilly_1\", 2),\n",
       " ('obamacare_1', 2),\n",
       " ('thomas hardiman_1', 2),\n",
       " ('manafort_1', 2),\n",
       " ('marie claire the_1', 2),\n",
       " ('tom brady, bob kraft_1', 2),\n",
       " ('turnbull_1', 2),\n",
       " ('merrick garland_1', 2),\n",
       " ('johnson_1', 2),\n",
       " ('carl bildt_1', 2),\n",
       " ('rudy giuliani-are_1', 2),\n",
       " ('vincent viola_1', 2),\n",
       " ('limbaugh_1', 2),\n",
       " ('acosta_1', 2),\n",
       " (\"sean spicer's_1\", 2),\n",
       " ('mattis_1', 2),\n",
       " ('martin luther king_1', 2),\n",
       " ('yates_1', 2),\n",
       " ('derrick watson_1', 2),\n",
       " ('melania_1', 2),\n",
       " ('ryan owens_1', 2),\n",
       " ('podesta_1', 2),\n",
       " ('bob casey_1', 2),\n",
       " (\"antonin scalia's_1\", 2),\n",
       " ('ronald_1', 2),\n",
       " ('james mattis-to_1', 2),\n",
       " ('keith ellison_1', 2),\n",
       " ('mohanad shareef hammadi_1', 2),\n",
       " ('kelly_1', 2),\n",
       " ('netanyahu_1', 2),\n",
       " ('oprah_1', 2),\n",
       " ('philip bildren_1', 2),\n",
       " ('john conyers_1', 2),\n",
       " ('chuck todd_1', 2),\n",
       " ('robert harward_1', 2),\n",
       " ('jeff merkley_1', 2),\n",
       " ('bilden_1', 2),\n",
       " ('sean spicer. the_1', 2),\n",
       " ('mnuchin_1', 2),\n",
       " ('gregg phillips_1', 2),\n",
       " ('antonin scalia_1', 2),\n",
       " ('democracy. trump_1', 2),\n",
       " ('billy bush_1', 2),\n",
       " ('sally yates-who_1', 2),\n",
       " ('border protection_2', 2),\n",
       " ('nbc_2', 2),\n",
       " ('times_2', 2),\n",
       " ('standing rock sioux tribe_2', 2),\n",
       " ('al qaeda_2', 2),\n",
       " (\"white house correspondents' association dinner_2\", 2),\n",
       " ('doj_2', 2),\n",
       " (\"white house correspondents' association_2\", 2),\n",
       " ('white house correspondents association_2', 2),\n",
       " ('delta_2', 2),\n",
       " ('customs & border protection_2', 2),\n",
       " ('senate finance committee_2', 2),\n",
       " ('southern district of new york_2', 2),\n",
       " ('freedom caucus_2', 2),\n",
       " ('nasa_2', 2),\n",
       " ('congressional budget office_2', 2),\n",
       " ('u.c. berkeley_2', 2),\n",
       " ('congressional black caucus_2', 2),\n",
       " ('department of homeland security_2', 2),\n",
       " ('4th circuit_2', 2),\n",
       " ('4th circuit court of appeals_2', 2),\n",
       " ('stock market_2', 2),\n",
       " ('national science foundation_2', 2),\n",
       " ('environmental protection agency_2', 2),\n",
       " ('florida international university law school. acosta_2', 2),\n",
       " ('supreme court. donald trump_2', 2),\n",
       " ('democrats_2', 2),\n",
       " ('keystone_2', 2),\n",
       " ('national endowment_2', 2),\n",
       " ('washington times_2', 2),\n",
       " ('fox business_2', 2),\n",
       " ('supreme court. the house gop_2', 2),\n",
       " ('customs_2', 2),\n",
       " ('sdny_2', 2),\n",
       " ('office of government_2', 2),\n",
       " ('breitbart. restructuring the national security council_2', 2),\n",
       " ('senate armed services_2', 2),\n",
       " ('trump administration. press_2', 2),\n",
       " ('department of housing and urban_2', 2),\n",
       " (\"nbc's meet the press_2\", 2),\n",
       " (\"women's empowerment panel_2\", 2),\n",
       " ('democratic national committee_2', 2),\n",
       " ('arnold_2', 2),\n",
       " ('haruhiko kuroda_1', 2),\n",
       " ('tobias_1', 2),\n",
       " ('harris_1', 2),\n",
       " ('university of scranton_2', 2),\n",
       " ('kaori hitomi_1', 2),\n",
       " ('formosa_2', 2),\n",
       " ('others, warns senate intelligence_2', 2),\n",
       " ('joseph_1', 2),\n",
       " ('jennifer adkison_1', 2),\n",
       " ('mia sykes_1', 2),\n",
       " ('masayuki_1', 2),\n",
       " ('aucoin_1', 2),\n",
       " ('brayden harden_1', 2),\n",
       " ('bryce benson_1', 2),\n",
       " ('paul newell_1', 2),\n",
       " ('webber_1', 2),\n",
       " ('acx_2', 2),\n",
       " ('nippon yusen_2', 2),\n",
       " ('nobuko_1', 2),\n",
       " ('oribe_2', 2),\n",
       " ('oribe seiki_2', 2),\n",
       " ('jenner_1', 2),\n",
       " ('mila kunis_1', 2),\n",
       " ('eric schneiderman_1', 2),\n",
       " ('pam bondi. both trump_1', 2),\n",
       " ('dimitri portwood kutcher_1', 2),\n",
       " ('linda mcmahon_1', 2),\n",
       " ('adam levine_1', 2),\n",
       " ('jason miller_1', 2),\n",
       " ('philip_1', 2),\n",
       " ('mayer_1', 2),\n",
       " ('scott_1', 2),\n",
       " (\"ryan reynolds'_1\", 2),\n",
       " ('elizabeth ii_1', 2),\n",
       " (\"kris jenner's_1\", 2),\n",
       " ('ben siegel_1', 2),\n",
       " (\"ashton kutcher's_1\", 2),\n",
       " ('spitalnick_1', 2),\n",
       " ('kardashian_1', 2),\n",
       " ('abc news. questions_2', 2),\n",
       " ('university of notre dame_2', 2),\n",
       " ('foundation_2', 2),\n",
       " ('blake lively_2', 2),\n",
       " ('donald j. trump foundation_2', 2),\n",
       " ('maccabees_2', 2),\n",
       " ('small business administration_2', 2),\n",
       " ('st. mary magdalene church_2', 2),\n",
       " ('trump foundation_2', 2),\n",
       " ('world wrestling entertainment_2', 2),\n",
       " ('lloyd_2', 2),\n",
       " ('nissan_2', 2),\n",
       " ('cnbc_2', 2),\n",
       " ('north korea, abe_1', 2),\n",
       " ('teresa cerojano_1', 2),\n",
       " ('lewis_1', 2),\n",
       " (\"philippines'_2\", 2),\n",
       " ('philippine coast guard. ____ associated press_2', 2),\n",
       " ('emiko teranishi_1', 2),\n",
       " ('rikio kozu_1', 2),\n",
       " ('matsuri takahashi_1', 2),\n",
       " ('hifumi_1', 2),\n",
       " ('association_2', 2),\n",
       " (\"labour lawyers' association of japan_2\", 2),\n",
       " ('keidanren_2', 2),\n",
       " ('workaholic japan_2', 2),\n",
       " ('dentsu_2', 2),\n",
       " ('japanese trade union_2', 2),\n",
       " ('ichiro natsume. others_2', 2),\n",
       " ('don mcgahn_1', 2),\n",
       " ('melissa mccarthy_1', 2),\n",
       " ('al jarreau_1', 2),\n",
       " ('christina el moussa_1', 2),\n",
       " ('frank ocean_1', 2),\n",
       " ('ken ehrlich_1', 2),\n",
       " ('david wild_1', 2),\n",
       " ('christina el_1', 2),\n",
       " ('tarek el_1', 2),\n",
       " ('tiffany trump_1', 2),\n",
       " ('neiman marcus_1', 2),\n",
       " ('brian lee golsby_1', 2),\n",
       " ('trump home_2', 2),\n",
       " ('sears_2', 2),\n",
       " ('grove city division of police_2', 2),\n",
       " ('sears holdings_2', 2),\n",
       " ('neiman marcus_2', 2),\n",
       " ('kkk_2', 2),\n",
       " ('ku klux klan_2', 2),\n",
       " ('kmart_2', 2),\n",
       " ('emily wang_1', 2),\n",
       " ('aso_1', 2),\n",
       " ('associated press. home of nazi_2', 2),\n",
       " ('nebbia_2', 2),\n",
       " ('william_1', 2),\n",
       " ('national graduate institute for policy studies_2', 2),\n",
       " ('kim jong nam_1', 2),\n",
       " ('daewoung kim_1', 2),\n",
       " (\"army's strategic force_2\", 2),\n",
       " ('kim tong-hyung_1', 2),\n",
       " ('institute for far eastern studies_2', 2),\n",
       " (\"victor smith, pence's_1\", 2),\n",
       " ('subaru_2', 2),\n",
       " ('united states, the u.s. treasury department_2', 2),\n",
       " ('george washington_1', 2),\n",
       " ('angela merkel, trump_1', 2),\n",
       " ('zachary taylor_1', 2),\n",
       " ('ivanka trump’s_1', 2),\n",
       " ('thomas jefferson_1', 2),\n",
       " ('merkel_1', 2),\n",
       " ('stephen feinberg_1', 2),\n",
       " ('jeremy corbyn_1', 2),\n",
       " ('john quincy adams_1', 2),\n",
       " ('david cameron (the_1', 2),\n",
       " ('john adams_1', 2),\n",
       " ('snoop dogg_1', 2),\n",
       " ('lyndon johnson’s_1', 2),\n",
       " ('theresa my_1', 2),\n",
       " ('breitbart_1', 2),\n",
       " ('qvc_2', 2),\n",
       " ('fox business news_2', 2),\n",
       " ('vodafone_2', 2),\n",
       " ('national education service_2', 2),\n",
       " ('under tory_2', 2),\n",
       " ('yahoo news’ olivier knox. trump_2', 2),\n",
       " ('human rights. labour_2', 2),\n",
       " ('tories_2', 2),\n",
       " ('freedom caucus. the freedom caucus_2', 2),\n",
       " ('labour party_2', 2),\n",
       " ('national investment bank_2', 2),\n",
       " ('tory_2', 2),\n",
       " ('nhs bursaries_2', 2),\n",
       " ('nhs_2', 2),\n",
       " ('hmrc_2', 2),\n",
       " ...]"
      ]
     },
     "execution_count": 83,
     "metadata": {},
     "output_type": "execute_result"
    }
   ],
   "source": [
    "sorted(d['shinzo abe_1'].items(), key=lambda p: p[1],reverse=True)"
   ]
  },
  {
   "cell_type": "code",
   "execution_count": 127,
   "metadata": {
    "collapsed": true
   },
   "outputs": [],
   "source": [
    "#sorted(d['apple_2'].items(), key=lambda p: p[1],reverse=True)"
   ]
  },
  {
   "cell_type": "code",
   "execution_count": 26,
   "metadata": {
    "collapsed": true
   },
   "outputs": [],
   "source": [
    "pair_list_1=['uiuc_2','nyu_2','steve jobs_1','bill gates_1','ge_2','amazon_2','google_2','boeing_2',\n",
    "             'navy_2','coca cola_2','mit_2',\n",
    "             'sony_2','intel_2','medtronic_2','bose_2','wells fargo_2','verizon_2','csv_2','prudential_2','ups_2']"
   ]
  },
  {
   "cell_type": "code",
   "execution_count": 27,
   "metadata": {
    "collapsed": true
   },
   "outputs": [],
   "source": [
    "pair_list_2=['university of illinois_2','new york university_2','apple_2','microsoft_2',\n",
    "             'general electric_2','ebay_2',\n",
    "            'ibm_2','lockheed_2','army_2','pepsi_2','stanford_2','cisco_2','ibm_2','abbott_2','jbl_2','jp morgan chase_2',\n",
    "            'sprint_2','walgreen_2','state farm_2','fedex_2']"
   ]
  },
  {
   "cell_type": "code",
   "execution_count": 23,
   "metadata": {
    "collapsed": true
   },
   "outputs": [],
   "source": [
    "pair_list_1=['uiuc_1','nyu_2','steve jobs_1','bill gates_1','ge_2','amazon_2','google_2','boeing_2',\n",
    "             'navy_2','coca cola_2','mit_2',\n",
    "             'sony_2','intel_2','medtronic_2','wells fargo_2','verizon_2','ups_2']"
   ]
  },
  {
   "cell_type": "code",
   "execution_count": 21,
   "metadata": {
    "collapsed": true
   },
   "outputs": [],
   "source": [
    "pair_list_2=['university of illinois_2','new york university_2','microsoft_2',\n",
    "             'general electric_2','ebay_2',\n",
    "            'ibm_2','lockheed_2','army_2','pepsi_2','stanford_2','cisco_2','ibm_2','abbott_2','jbl_2','jp morgan chase_2',\n",
    "            'sprint_2','walgreen_2','state farm_2','fedex_2']"
   ]
  },
  {
   "cell_type": "code",
   "execution_count": 27,
   "metadata": {
    "collapsed": true
   },
   "outputs": [],
   "source": [
    "pair_list_1=['uiuc_2','nyu_2','ge_2','amazon_2','google_2','boeing_2',\n",
    "             'navy_2','coca cola_2','mit_2',\n",
    "             'sony_2','intel_2','medtronic_2','wells fargo_2','verizon_2','csv_2','prudential_2','ups_2']"
   ]
  },
  {
   "cell_type": "code",
   "execution_count": 29,
   "metadata": {
    "collapsed": true
   },
   "outputs": [],
   "source": [
    "pair_list_2=['university of illinois_2','new york university_2',\n",
    "             'general electric_2','ebay_2',\n",
    "            'ibm_2','lockheed_2','army_2','pepsi_2','stanford_2','cisco_2','ibm_2','abbott_2','jp morgan chase_2',\n",
    "            'sprint_2','walgreen_2','state farm_2','fedex_2']"
   ]
  },
  {
   "cell_type": "code",
   "execution_count": 79,
   "metadata": {},
   "outputs": [
    {
     "name": "stdout",
     "output_type": "stream",
     "text": [
      "-1.46351719441\n",
      "[-16.093750297316184, -10.944614432122004, -16.422785514900337, -14.717344841783447, 2.7224133689390904, -0.81722797914142276, 0.22028766999495217, 11.028330462233855, 10.221139398301389, -6.7580128209025681, 0.74295771311838665, -0.22764096160578784, 17.10050388700299, -0.53989637181936045, -1.7096843259550174, 0.13563148587835924, -4.4802515827489433, 1.2084677507325703, -0.83611690308963948, 0.89725040702560199]\n"
     ]
    }
   ],
   "source": [
    "z_score=[]\n",
    "for i in range(len(pair_list_1)):\n",
    "    name_1=pair_list_1[i]\n",
    "    name_2=pair_list_2[i]\n",
    "\n",
    "    psim=cosine_similarity(X[wti[name_1],:].reshape(1, -1),X[wti[name_2],:].reshape(1, -1))[0][0]\n",
    "\n",
    "    sim=[]\n",
    "    for i in range(3000):\n",
    "        ri=np.random.randint(len(all_words))\n",
    "        sim.append(cosine_similarity(X[wti[name_1],:].reshape(1, -1),X[ri,:].reshape(1, -1)))\n",
    "\n",
    "    z_score.append((psim-np.mean(sim))/np.std(sim))\n",
    "print(np.mean(z_score))\n",
    "print(z_score)"
   ]
  },
  {
   "cell_type": "code",
   "execution_count": 83,
   "metadata": {},
   "outputs": [
    {
     "name": "stdout",
     "output_type": "stream",
     "text": [
      "This pair:  0.219975340903\n",
      "0.213577391954 0.040629035555\n",
      "0.157472331331\n"
     ]
    }
   ],
   "source": [
    "name_1='google_2'\n",
    "name_2='uiuc_2'\n",
    "from sklearn.metrics.pairwise import cosine_similarity\n",
    "psim=cosine_similarity(X[wti[name_1],:].reshape(1, -1),X[wti[name_2],:].reshape(1, -1))\n",
    "print('This pair: ',psim[0][0])\n",
    "sim=[]\n",
    "for i in range(3000):\n",
    "    ri=np.random.randint(len(all_words))\n",
    "    sim.append(cosine_similarity(X[wti[name_1],:].reshape(1, -1),X[ri,:].reshape(1, -1)))\n",
    "print(np.mean(sim),np.std(sim))\n",
    "print(abs(psim[0][0]-np.mean(sim))/np.std(sim))"
   ]
  },
  {
   "cell_type": "code",
   "execution_count": 69,
   "metadata": {},
   "outputs": [
    {
     "name": "stdout",
     "output_type": "stream",
     "text": [
      "0.730806373547 0.0657408669345\n"
     ]
    }
   ],
   "source": [
    "sim=[]\n",
    "for i in range(30000):\n",
    "    ri=np.random.randint(len(all_words))\n",
    "    ai=np.random.randint(len(all_words))\n",
    "    sim.append(cosine_similarity(X[ai,:].reshape(1, -1),X[ri,:].reshape(1, -1)))\n",
    "print(np.mean(sim),np.std(sim))"
   ]
  },
  {
   "cell_type": "code",
   "execution_count": 15,
   "metadata": {},
   "outputs": [
    {
     "data": {
      "text/plain": [
       "array([[ 0.10586997]])"
      ]
     },
     "execution_count": 15,
     "metadata": {},
     "output_type": "execute_result"
    }
   ],
   "source": [
    "from sklearn.metrics.pairwise import cosine_similarity\n",
    "cosine_similarity(X[5,:].reshape(1, -1),X[11208,:].reshape(1, -1))"
   ]
  },
  {
   "cell_type": "code",
   "execution_count": 82,
   "metadata": {},
   "outputs": [
    {
     "data": {
      "text/plain": [
       "array(['Basic Industries', 'Consumer Services', 'Finance', 'Health Care',\n",
       "       'Media', 'Miscellaneous', 'Public Utilities', 'Technology',\n",
       "       'Transportation'], dtype=object)"
      ]
     },
     "execution_count": 82,
     "metadata": {},
     "output_type": "execute_result"
    }
   ],
   "source": [
    "np.unique(scomp['Industry'])"
   ]
  },
  {
   "cell_type": "code",
   "execution_count": 85,
   "metadata": {
    "collapsed": true
   },
   "outputs": [],
   "source": [
    "import pandas as pd\n",
    "res=pd.DataFrame({'name':all_words,'cluster':kmeans.labels_}) "
   ]
  },
  {
   "cell_type": "code",
   "execution_count": 97,
   "metadata": {
    "collapsed": true
   },
   "outputs": [],
   "source": [
    "res[res['cluster']==3]"
   ]
  },
  {
   "cell_type": "code",
   "execution_count": 37,
   "metadata": {
    "collapsed": true
   },
   "outputs": [],
   "source": [
    "fpeople=pickle.load(open('train/Forbes_People_Final.pickle','rb'))\n",
    "ncomp=pickle.load(open('train/Nasdaq_Company_Final.pickle','rb'))\n",
    "scomp=pickle.load(open('train/Sec_Company_Final.pickle','rb'))\n",
    "speople=pickle.load(open('train/Sec_People_Final.pickle','rb'))\n"
   ]
  },
  {
   "cell_type": "code",
   "execution_count": 92,
   "metadata": {
    "collapsed": true
   },
   "outputs": [],
   "source": [
    "from collections import Counter\n",
    "cnt = Counter()\n",
    "temp=[]\n",
    "for w in all_words:\n",
    "    temp.append(w[:-2])\n",
    "    #temp.append(w)\n",
    "cnt.update(temp)"
   ]
  },
  {
   "cell_type": "code",
   "execution_count": 93,
   "metadata": {},
   "outputs": [
    {
     "name": "stdout",
     "output_type": "stream",
     "text": [
      "People      98\n",
      "Industry    98\n",
      "dtype: int64\n"
     ]
    },
    {
     "data": {
      "text/plain": [
       "People      0.000402\n",
       "Industry    0.000402\n",
       "dtype: float64"
      ]
     },
     "execution_count": 93,
     "metadata": {},
     "output_type": "execute_result"
    }
   ],
   "source": [
    "print(speople[speople['People'].isin(cnt)].count())\n",
    "speople[speople['People'].isin(cnt)].count()/speople.count()"
   ]
  },
  {
   "cell_type": "code",
   "execution_count": 94,
   "metadata": {},
   "outputs": [
    {
     "name": "stdout",
     "output_type": "stream",
     "text": [
      "Company     713\n",
      "Industry    713\n",
      "dtype: int64\n"
     ]
    },
    {
     "data": {
      "text/plain": [
       "Company     0.012321\n",
       "Industry    0.012321\n",
       "dtype: float64"
      ]
     },
     "execution_count": 94,
     "metadata": {},
     "output_type": "execute_result"
    }
   ],
   "source": [
    "print(scomp[scomp['Company'].isin(cnt)].count())\n",
    "scomp[scomp['Company'].isin(cnt)].count()/scomp.count()"
   ]
  },
  {
   "cell_type": "code",
   "execution_count": 95,
   "metadata": {},
   "outputs": [
    {
     "name": "stdout",
     "output_type": "stream",
     "text": [
      "Company     360\n",
      "Industry    360\n",
      "dtype: int64\n"
     ]
    },
    {
     "data": {
      "text/plain": [
       "Company     0.075456\n",
       "Industry    0.075456\n",
       "dtype: float64"
      ]
     },
     "execution_count": 95,
     "metadata": {},
     "output_type": "execute_result"
    }
   ],
   "source": [
    "print(ncomp[ncomp['Company'].isin(cnt)].count())\n",
    "ncomp[ncomp['Company'].isin(cnt)].count()/ncomp.count()"
   ]
  },
  {
   "cell_type": "code",
   "execution_count": 96,
   "metadata": {},
   "outputs": [
    {
     "name": "stdout",
     "output_type": "stream",
     "text": [
      "People      2\n",
      "Industry    2\n",
      "dtype: int64\n"
     ]
    },
    {
     "data": {
      "text/plain": [
       "People      0.001136\n",
       "Industry    0.001136\n",
       "dtype: float64"
      ]
     },
     "execution_count": 96,
     "metadata": {},
     "output_type": "execute_result"
    }
   ],
   "source": [
    "print(fpeople[fpeople['People'].isin(cnt)].count())\n",
    "fpeople[fpeople['People'].isin(cnt)].count()/fpeople.count()"
   ]
  },
  {
   "cell_type": "code",
   "execution_count": 106,
   "metadata": {
    "collapsed": true
   },
   "outputs": [],
   "source": [
    "scomp_new=scomp[scomp['Company'].isin(cnt)]"
   ]
  },
  {
   "cell_type": "code",
   "execution_count": 164,
   "metadata": {},
   "outputs": [
    {
     "data": {
      "text/plain": [
       "array([0, 1, 2, 3, 4, 5, 6, 7, 8], dtype=int32)"
      ]
     },
     "execution_count": 164,
     "metadata": {},
     "output_type": "execute_result"
    }
   ],
   "source": [
    "np.unique(res.cluster)"
   ]
  },
  {
   "cell_type": "code",
   "execution_count": 121,
   "metadata": {
    "collapsed": true
   },
   "outputs": [],
   "source": [
    "res.name=res.name.apply(lambda n:n[:-2])"
   ]
  },
  {
   "cell_type": "code",
   "execution_count": 133,
   "metadata": {},
   "outputs": [
    {
     "name": "stdout",
     "output_type": "stream",
     "text": [
      "1\n",
      "12\n",
      "----------\n",
      "4\n",
      "14\n",
      "----------\n",
      "8\n",
      "14\n",
      "----------\n",
      "2\n",
      "8\n",
      "----------\n",
      "6\n",
      "5\n",
      "----------\n",
      "7\n",
      "15\n",
      "----------\n",
      "8\n",
      "14\n",
      "----------\n",
      "4\n",
      "23\n",
      "----------\n",
      "7\n",
      "13\n",
      "----------\n"
     ]
    }
   ],
   "source": [
    "all_match={}\n",
    "for ind in np.unique(scomp_new.Industry):\n",
    "    cnt_list=[]\n",
    "    \n",
    "    \n",
    "    for c in np.unique(res.cluster):\n",
    "            matcher=Counter()\n",
    "        \n",
    "            matcher.update(scomp_new[scomp_new.Industry==ind]['Company'])\n",
    "            sub_res=res[res.cluster==c]\n",
    "            \n",
    "            cnt_list.append(len(sub_res[sub_res.name.isin(matcher) ]))\n",
    "    all_match[ind]=cnt_list\n",
    "    print(cnt_list.index(max(cnt_list)))\n",
    "    print(max(cnt_list))\n",
    "    print('-'*10)"
   ]
  },
  {
   "cell_type": "code",
   "execution_count": 178,
   "metadata": {
    "collapsed": true
   },
   "outputs": [],
   "source": [
    "assign=[1,3,8,2,6,7,3,4,5]"
   ]
  },
  {
   "cell_type": "code",
   "execution_count": 179,
   "metadata": {
    "collapsed": true
   },
   "outputs": [],
   "source": [
    "n=0\n",
    "predict=[]\n",
    "predict_ind=[]\n",
    "for ind in np.unique(scomp_new.Industry):\n",
    "    c=assign[n]\n",
    "    predict+=list(res[res.cluster==c].name)\n",
    "    predict_ind+=[ind]*len(list(res[res.cluster==c].name))\n",
    "    n+=1"
   ]
  },
  {
   "cell_type": "code",
   "execution_count": 180,
   "metadata": {
    "collapsed": true
   },
   "outputs": [],
   "source": [
    "pred=pd.DataFrame({'name':predict,'ind':predict_ind})"
   ]
  },
  {
   "cell_type": "code",
   "execution_count": 181,
   "metadata": {
    "collapsed": true
   },
   "outputs": [],
   "source": [
    "pred=pred[pred['name'].isin(Counter(scomp.Company))]"
   ]
  },
  {
   "cell_type": "code",
   "execution_count": 182,
   "metadata": {
    "collapsed": true
   },
   "outputs": [],
   "source": [
    "score=0\n",
    "for index, row in pred.iterrows():\n",
    "    score+=(scomp[scomp.Company==row['name']]['Industry'].values[0]==row['ind'])"
   ]
  },
  {
   "cell_type": "code",
   "execution_count": 184,
   "metadata": {},
   "outputs": [
    {
     "data": {
      "text/plain": [
       "0.1590909090909091"
      ]
     },
     "execution_count": 184,
     "metadata": {},
     "output_type": "execute_result"
    }
   ],
   "source": [
    "score/len(pred)"
   ]
  },
  {
   "cell_type": "code",
   "execution_count": 134,
   "metadata": {},
   "outputs": [
    {
     "data": {
      "text/plain": [
       "{'Basic Industries': [8, 12, 4, 9, 6, 6, 12, 7, 4],\n",
       " 'Consumer Services': [9, 8, 9, 13, 14, 5, 12, 9, 13],\n",
       " 'Finance': [8, 11, 8, 7, 10, 10, 10, 6, 14],\n",
       " 'Health Care': [4, 4, 8, 7, 8, 5, 4, 0, 2],\n",
       " 'Media': [2, 0, 2, 1, 1, 2, 5, 2, 1],\n",
       " 'Miscellaneous': [7, 12, 11, 13, 11, 13, 8, 15, 15],\n",
       " 'Public Utilities': [3, 5, 6, 11, 3, 6, 4, 5, 14],\n",
       " 'Technology': [8, 17, 18, 16, 23, 15, 11, 21, 11],\n",
       " 'Transportation': [10, 11, 10, 6, 6, 11, 10, 13, 7]}"
      ]
     },
     "execution_count": 134,
     "metadata": {},
     "output_type": "execute_result"
    }
   ],
   "source": [
    "all_match"
   ]
  }
 ],
 "metadata": {
  "kernelspec": {
   "display_name": "Python 3",
   "language": "python",
   "name": "python3"
  },
  "language_info": {
   "codemirror_mode": {
    "name": "ipython",
    "version": 3
   },
   "file_extension": ".py",
   "mimetype": "text/x-python",
   "name": "python",
   "nbconvert_exporter": "python",
   "pygments_lexer": "ipython3",
   "version": "3.6.3"
  }
 },
 "nbformat": 4,
 "nbformat_minor": 2
}
